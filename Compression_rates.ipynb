{
 "cells": [
  {
   "cell_type": "code",
   "execution_count": 1,
   "metadata": {},
   "outputs": [],
   "source": [
    "import sys\n",
    "import numpy as np\n",
    "import seaborn as sns\n",
    "import matplotlib.pyplot as plt\n",
    "from PIL import Image\n",
    "from copy import deepcopy\n",
    "from time import time\n",
    "from typing import Callable, Tuple, Any"
   ]
  },
  {
   "cell_type": "markdown",
   "metadata": {},
   "source": [
    "## Compression rates analysis"
   ]
  },
  {
   "cell_type": "code",
   "execution_count": 2,
   "metadata": {},
   "outputs": [],
   "source": [
    "from src.lzw import lzw_compress, lzw_decompress\n",
    "from src.lz77 import compress, decompress\n",
    "from src.Huffman_algo import HuffmanCode\n",
    "from src.deflate import Deflate"
   ]
  },
  {
   "cell_type": "markdown",
   "metadata": {},
   "source": [
    "### Examples of values that would be returned"
   ]
  },
  {
   "cell_type": "code",
   "execution_count": 3,
   "metadata": {},
   "outputs": [],
   "source": [
    "# Some data examples\n",
    "\n",
    "# one sentence\n",
    "one_sentence = np.array([ord(elm) for elm in 'TOBEORNOTTOBEORTOBEORNOT'])\n",
    "\n",
    "# random testing text\n",
    "with open('examples/text.txt') as infile:\n",
    "    text = np.array([ord(char) for char in ''.join(infile.readlines())])\n",
    "\n",
    "# random testing image\n",
    "img = Image.open('examples/test_img.png').convert('RGB')\n",
    "img = np.array(img, dtype='uint8')\n",
    "img = np.ravel(img)    "
   ]
  },
  {
   "cell_type": "code",
   "execution_count": 4,
   "metadata": {},
   "outputs": [
    {
     "name": "stdout",
     "output_type": "stream",
     "text": [
      "[( 0, 1, 84) ( 0, 1, 79) ( 0, 1, 66) ( 0, 1, 69) ( 3, 1, 79) ( 0, 1, 82)\n",
      " ( 0, 1, 78) ( 6, 1, 79) ( 8, 1, 84) ( 9, 6, 84) (15, 9, 84)]\n"
     ]
    }
   ],
   "source": [
    "print(compress(deepcopy(one_sentence)))"
   ]
  },
  {
   "cell_type": "code",
   "execution_count": 5,
   "metadata": {},
   "outputs": [
    {
     "name": "stdout",
     "output_type": "stream",
     "text": [
      "[  84   79   66   69   79   82   78   79   84  256  258  260  265  259\n",
      "  261 7984]\n"
     ]
    }
   ],
   "source": [
    "print(lzw_compress(deepcopy(one_sentence)))"
   ]
  },
  {
   "cell_type": "code",
   "execution_count": 6,
   "metadata": {},
   "outputs": [
    {
     "name": "stdout",
     "output_type": "stream",
     "text": [
      "('00110111001110101011000011011100111010011011100111010101100', {84: '00', 78: '010', 66: '011', 69: '100', 82: '101', 79: '11'})\n"
     ]
    }
   ],
   "source": [
    "code = HuffmanCode(deepcopy(one_sentence)).encode()\n",
    "print(code)"
   ]
  },
  {
   "cell_type": "code",
   "execution_count": 7,
   "metadata": {},
   "outputs": [
    {
     "name": "stdout",
     "output_type": "stream",
     "text": [
      "Overall size of compression is: 956\n",
      "[(1, {6: '00', 9: '01', 1: '1'}, '1111111110001', {3: '0000', 82: '0001', 78: '0010', 6: '0011', 8: '0100', 9: '0101', 79: '011', 0: '10', 15: '1100', 66: '11010', 69: '11011', 84: '111'}, '10111100111011010101101100000111000011000100011011010011101011111100111')]\n"
     ]
    }
   ],
   "source": [
    "code = Deflate().encode(deepcopy(one_sentence))\n",
    "print(code)"
   ]
  },
  {
   "cell_type": "code",
   "execution_count": 8,
   "metadata": {},
   "outputs": [
    {
     "name": "stdout",
     "output_type": "stream",
     "text": [
      "Overall size of compression is: 970\n"
     ]
    },
    {
     "data": {
      "text/plain": [
       "[('lz77', 228, 0.000885009765625),\n",
       " ('deflate', 970, 0.0012540817260742188),\n",
       " ('huffman', 419, 7.390975952148438e-05),\n",
       " ('lzw', 224, 0.0002162456512451172)]"
      ]
     },
     "execution_count": 8,
     "metadata": {},
     "output_type": "execute_result"
    }
   ],
   "source": [
    "def data_type_test(data: np.array):\n",
    "    res = []\n",
    "    \n",
    "    # --- lz77 test ---\n",
    "    start_time = time()\n",
    "    compressed_data = compress(deepcopy(data))\n",
    "    res.append(('lz77', sys.getsizeof(compressed_data), time() - start_time))\n",
    "    assert np.all(data == decompress(compressed_data))\n",
    "    \n",
    "    # --- deflate test ---\n",
    "    d = Deflate()\n",
    "    start_time = time()\n",
    "    compressed_data = d.encode(deepcopy(data))\n",
    "    data_size: int = 0\n",
    "    for elm in compressed_data:\n",
    "        if elm[0] == 0:\n",
    "            data_size += len(elm[1])\n",
    "        elif elm[0] == 1:\n",
    "            data_size += len(elm[2]) + len(elm[4]) + sys.getsizeof(elm[1]) + sys.getsizeof(elm[3])\n",
    "    res.append(('deflate', data_size, time() - start_time))\n",
    "    assert np.all(data == d.decode(compressed_data))\n",
    "    \n",
    "    # --- Huffman test ---\n",
    "    h = HuffmanCode(deepcopy(data))\n",
    "    start_time = time()\n",
    "    compressed_data, table = h.encode()\n",
    "    data_size = len(compressed_data) + sys.getsizeof(table)\n",
    "    res.append(('huffman', data_size, time() - start_time))\n",
    "    \n",
    "    # --- lzw test ---\n",
    "    start_time = time()\n",
    "    compressed_data = lzw_compress(deepcopy(data))\n",
    "    res.append(('lzw', sys.getsizeof(compressed_data), time() - start_time))\n",
    "    \n",
    "    return res\n",
    "\n",
    "data_type_test(np.array([ord(elm) for elm in 'TOBEORNOTOTBEORTOBEORNOT']))"
   ]
  },
  {
   "cell_type": "code",
   "execution_count": 9,
   "metadata": {},
   "outputs": [],
   "source": [
    "def plot_test_data(data, data_type):\n",
    "    print(f'Size of test {data_type} is {sys.getsizeof(list(data))}')\n",
    "    rates = data_type_test(data)\n",
    "    times_outstring = ''\n",
    "    for elm in rates:\n",
    "        times_outstring += f'{elm[0]}: {round(elm[-1], 2)}; '\n",
    "    print(f'Time that each algo has taken to compress the thing: {times_outstring}')\n",
    "    column_names = [elm[0] for elm in rates]\n",
    "    data_sizes = [elm[1] for elm in rates]\n",
    "    sns.barplot(x=column_names, y=data_sizes)\n",
    "    plt.show()\n",
    "\n",
    "    # in comparisson with raw text\n",
    "    rates.insert(0, (f'raw {data_type}', sys.getsizeof(list(data)), None))\n",
    "    column_names = [elm[0] for elm in rates]\n",
    "    data_sizes = [elm[1] for elm in rates]\n",
    "    sns.barplot(x=column_names, y=data_sizes)\n",
    "    plt.show()\n"
   ]
  },
  {
   "cell_type": "markdown",
   "metadata": {},
   "source": [
    "# Tests"
   ]
  },
  {
   "cell_type": "code",
   "execution_count": 10,
   "metadata": {},
   "outputs": [
    {
     "name": "stdout",
     "output_type": "stream",
     "text": [
      "Size of test one sentence is 248\n",
      "Overall size of compression is: 956\n",
      "Time that each algo has taken to compress the thing: lz77: 0.0; deflate: 0.0; huffman: 0.0; lzw: 0.0; \n"
     ]
    },
    {
     "data": {
      "image/png": "[encoded data removed]",
      "text/plain": [
       "<Figure size 432x288 with 1 Axes>"
      ]
     },
     "metadata": {
      "needs_background": "light"
     },
     "output_type": "display_data"
    },
    {
     "data": {
      "image/png": "[encoded data removed]",
      "text/plain": [
       "<Figure size 432x288 with 1 Axes>"
      ]
     },
     "metadata": {
      "needs_background": "light"
     },
     "output_type": "display_data"
    }
   ],
   "source": [
    "plot_test_data(one_sentence, 'one sentence')"
   ]
  },
  {
   "cell_type": "code",
   "execution_count": 11,
   "metadata": {},
   "outputs": [
    {
     "name": "stdout",
     "output_type": "stream",
     "text": [
      "Size of test text: Romeo and Juliet is 1396424\n",
      "Overall size of compression is: 174546\n",
      "Time that each algo has taken to compress the thing: lz77: 14.31; deflate: 20.4; huffman: 0.14; lzw: 0.39; \n"
     ]
    },
    {
     "data": {
      "image/png": "[encoded data removed]",
      "text/plain": [
       "<Figure size 432x288 with 1 Axes>"
      ]
     },
     "metadata": {
      "needs_background": "light"
     },
     "output_type": "display_data"
    },
    {
     "data": {
      "image/png": "[encoded data removed]",
      "text/plain": [
       "<Figure size 432x288 with 1 Axes>"
      ]
     },
     "metadata": {
      "needs_background": "light"
     },
     "output_type": "display_data"
    }
   ],
   "source": [
    "plot_test_data(text, 'text: Romeo and Juliet')"
   ]
  },
  {
   "cell_type": "code",
   "execution_count": 12,
   "metadata": {},
   "outputs": [
    {
     "name": "stdout",
     "output_type": "stream",
     "text": [
      "Size of test image is 11609048\n",
      "Overall size of compression is: 129585\n",
      "Time that each algo has taken to compress the thing: lz77: 12.72; deflate: 9.25; huffman: 0.95; lzw: 1.86; \n"
     ]
    },
    {
     "data": {
      "image/png": "[encoded data removed]",
      "text/plain": [
       "<Figure size 432x288 with 1 Axes>"
      ]
     },
     "metadata": {
      "needs_background": "light"
     },
     "output_type": "display_data"
    },
    {
     "data": {
      "image/png": "[encoded data removed]",
      "text/plain": [
       "<Figure size 432x288 with 1 Axes>"
      ]
     },
     "metadata": {
      "needs_background": "light"
     },
     "output_type": "display_data"
    }
   ],
   "source": [
    "plot_test_data(img, 'image')"
   ]
  },
  {
   "cell_type": "code",
   "execution_count": null,
   "metadata": {},
   "outputs": [],
   "source": []
  }
 ],
 "metadata": {
  "kernelspec": {
   "display_name": "Python 3",
   "language": "python",
   "name": "python3"
  },
  "language_info": {
   "codemirror_mode": {
    "name": "ipython",
    "version": 3
   },
   "file_extension": ".py",
   "mimetype": "text/x-python",
   "name": "python",
   "nbconvert_exporter": "python",
   "pygments_lexer": "ipython3",
   "version": "3.9.0"
  }
 },
 "nbformat": 4,
 "nbformat_minor": 4
}
