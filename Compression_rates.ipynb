{
 "cells": [
  {
   "cell_type": "code",
   "execution_count": 2,
   "metadata": {},
   "outputs": [],
   "source": [
    "import numpy as np\n",
    "import seaborn as sns\n",
    "import matplotlib.pyplot as plt\n",
    "from PIL import Image\n",
    "from copy import deepcopy\n",
    "from sys import getsizeof\n",
    "from time import time\n",
    "from typing import Callable, Tuple, Any"
   ]
  },
  {
   "cell_type": "markdown",
   "metadata": {},
   "source": [
    "## Compression rates analysis"
   ]
  },
  {
   "cell_type": "code",
   "execution_count": 3,
   "metadata": {},
   "outputs": [],
   "source": [
    "def get_compression_rates(data: np.ndarray, compression_func: Callable,\n",
    "                               decompression_func: Callable, func_class: object = None) -> Tuple[int, float]:\n",
    "    start_time = time()\n",
    "    if func_class is not None:\n",
    "        func_class_con = func_class(data)\n",
    "        compression_func, decompression_func = func_class_con.encode, func_class_con.decode\n",
    "        compressed_data = compression_func()\n",
    "    else:\n",
    "        compressed_data = compression_func(deepcopy(data))\n",
    "\n",
    "    if compression_func in [compress, lzw_compress]:\n",
    "        if isinstance(compressed_data, tuple):\n",
    "            compressed_size = getsizeof(list(compressed_data[0]))\n",
    "        else:\n",
    "            compressed_size = getsizeof(list(compressed_data))\n",
    "    else:\n",
    "        compressed_size = len(compressed_data[0])\n",
    "    compressed_time = time() - start_time\n",
    "    # assert list(img) == list(decompress(compressed_data)) # lossless comprerssion check\n",
    "\n",
    "    return (compressed_size, compressed_time)"
   ]
  },
  {
   "cell_type": "code",
   "execution_count": 4,
   "metadata": {},
   "outputs": [],
   "source": [
    "from src.lzw import lzw_compress, lzw_decompress\n",
    "from src.lz77 import compress, decompress\n",
    "from src.Huffman_algo import HuffmanCode\n",
    "from src.deflate import Deflate\n",
    "\n",
    "# available function for compression\n",
    "FUNCTION_PAIRS = {'lzw': (lzw_compress, lzw_decompress, None),\n",
    "                  'lz77': (compress, decompress, None),\n",
    "                  'deflate': (Deflate().encode, Deflate().decode, None),\n",
    "                  'huffman': (None, None, HuffmanCode)}"
   ]
  },
  {
   "cell_type": "code",
   "execution_count": 5,
   "metadata": {},
   "outputs": [],
   "source": [
    "def data_type_test(data: Any):\n",
    "    res = []\n",
    "    for encoding_algo in FUNCTION_PAIRS:\n",
    "        iter_data = deepcopy(data)\n",
    "        encoding_func, decoding_func, func_obj = FUNCTION_PAIRS[encoding_algo]\n",
    "        compressed_size, compressed_time = get_compression_rates(iter_data, encoding_func, decoding_func, func_obj)\n",
    "        print(f'{encoding_algo}: Size of compressed data: {compressed_size}, Time of compression: {compressed_time}')\n",
    "        res.append((encoding_algo, compressed_size, compressed_time))\n",
    "        \n",
    "    # res.append(('huffman', Huffman_code))\n",
    "        \n",
    "    return res"
   ]
  },
  {
   "cell_type": "code",
   "execution_count": 6,
   "metadata": {},
   "outputs": [],
   "source": [
    "def plot_test_data(data, data_type):\n",
    "    print(f'Size of test {data_type} is {getsizeof(list(data))}')\n",
    "    rates = data_type_test(data)\n",
    "    column_names = [elm[0] for elm in rates]\n",
    "    data_sizes = [elm[1] for elm in rates]\n",
    "    sns.barplot(x=column_names, y=data_sizes)\n",
    "    plt.show()\n",
    "\n",
    "    # in comparisson with raw text\n",
    "    rates.insert(0, (f'raw {data_type}', getsizeof(list(data)), None))\n",
    "    column_names = [elm[0] for elm in rates]\n",
    "    data_sizes = [elm[1] for elm in rates]\n",
    "    sns.barplot(x=column_names, y=data_sizes)\n",
    "    plt.show()\n"
   ]
  },
  {
   "cell_type": "markdown",
   "metadata": {},
   "source": [
    "# Tests"
   ]
  },
  {
   "cell_type": "code",
   "execution_count": 7,
   "metadata": {},
   "outputs": [
    {
     "name": "stdout",
     "output_type": "stream",
     "text": [
      "Size of test one sentence is 248\n",
      "lzw: Size of compressed data: 184, Time of compression: 0.0003483295440673828\n",
      "lz77: Size of compressed data: 144, Time of compression: 0.0005590915679931641\n",
      "deflate: Size of compressed data: 107, Time of compression: 0.0012180805206298828\n",
      "huffman: Size of compressed data: 59, Time of compression: 0.00018477439880371094\n"
     ]
    },
    {
     "data": {
      "image/png": "[encoded data removed]",
      "text/plain": [
       "<Figure size 432x288 with 1 Axes>"
      ]
     },
     "metadata": {
      "needs_background": "light"
     },
     "output_type": "display_data"
    },
    {
     "data": {
      "image/png": "[encoded data removed]",
      "text/plain": [
       "<Figure size 432x288 with 1 Axes>"
      ]
     },
     "metadata": {
      "needs_background": "light"
     },
     "output_type": "display_data"
    }
   ],
   "source": [
    "# one sentence\n",
    "one_sentence = np.array([ord(elm) for elm in 'TOBEORNOTTOBEORTOBEORNOT'])\n",
    "    \n",
    "plot_test_data(one_sentence, 'one sentence')"
   ]
  },
  {
   "cell_type": "code",
   "execution_count": 8,
   "metadata": {},
   "outputs": [
    {
     "name": "stdout",
     "output_type": "stream",
     "text": [
      "Size of test text: Romeo and Juliet is 1396424\n",
      "lzw: Size of compressed data: 329064, Time of compression: 0.15063714981079102\n",
      "38413    \r"
     ]
    },
    {
     "ename": "KeyboardInterrupt",
     "evalue": "",
     "output_type": "error",
     "traceback": [
      "\u001b[0;31m---------------------------------------------------------------------------\u001b[0m",
      "\u001b[0;31mKeyboardInterrupt\u001b[0m                         Traceback (most recent call last)",
      "\u001b[0;32m<ipython-input-8-3bb67f42566a>\u001b[0m in \u001b[0;36m<module>\u001b[0;34m\u001b[0m\n\u001b[1;32m      3\u001b[0m     \u001b[0mtext\u001b[0m \u001b[0;34m=\u001b[0m \u001b[0mnp\u001b[0m\u001b[0;34m.\u001b[0m\u001b[0marray\u001b[0m\u001b[0;34m(\u001b[0m\u001b[0;34m[\u001b[0m\u001b[0mord\u001b[0m\u001b[0;34m(\u001b[0m\u001b[0mchar\u001b[0m\u001b[0;34m)\u001b[0m \u001b[0;32mfor\u001b[0m \u001b[0mchar\u001b[0m \u001b[0;32min\u001b[0m \u001b[0;34m''\u001b[0m\u001b[0;34m.\u001b[0m\u001b[0mjoin\u001b[0m\u001b[0;34m(\u001b[0m\u001b[0minfile\u001b[0m\u001b[0;34m.\u001b[0m\u001b[0mreadlines\u001b[0m\u001b[0;34m(\u001b[0m\u001b[0;34m)\u001b[0m\u001b[0;34m)\u001b[0m\u001b[0;34m]\u001b[0m\u001b[0;34m)\u001b[0m\u001b[0;34m\u001b[0m\u001b[0;34m\u001b[0m\u001b[0m\n\u001b[1;32m      4\u001b[0m \u001b[0;34m\u001b[0m\u001b[0m\n\u001b[0;32m----> 5\u001b[0;31m \u001b[0mplot_test_data\u001b[0m\u001b[0;34m(\u001b[0m\u001b[0mtext\u001b[0m\u001b[0;34m,\u001b[0m \u001b[0;34m'text: Romeo and Juliet'\u001b[0m\u001b[0;34m)\u001b[0m\u001b[0;34m\u001b[0m\u001b[0;34m\u001b[0m\u001b[0m\n\u001b[0m",
      "\u001b[0;32m<ipython-input-6-944c369a882e>\u001b[0m in \u001b[0;36mplot_test_data\u001b[0;34m(data, data_type)\u001b[0m\n\u001b[1;32m      1\u001b[0m \u001b[0;32mdef\u001b[0m \u001b[0mplot_test_data\u001b[0m\u001b[0;34m(\u001b[0m\u001b[0mdata\u001b[0m\u001b[0;34m,\u001b[0m \u001b[0mdata_type\u001b[0m\u001b[0;34m)\u001b[0m\u001b[0;34m:\u001b[0m\u001b[0;34m\u001b[0m\u001b[0;34m\u001b[0m\u001b[0m\n\u001b[1;32m      2\u001b[0m     \u001b[0mprint\u001b[0m\u001b[0;34m(\u001b[0m\u001b[0;34mf'Size of test {data_type} is {getsizeof(list(data))}'\u001b[0m\u001b[0;34m)\u001b[0m\u001b[0;34m\u001b[0m\u001b[0;34m\u001b[0m\u001b[0m\n\u001b[0;32m----> 3\u001b[0;31m     \u001b[0mrates\u001b[0m \u001b[0;34m=\u001b[0m \u001b[0mdata_type_test\u001b[0m\u001b[0;34m(\u001b[0m\u001b[0mdata\u001b[0m\u001b[0;34m)\u001b[0m\u001b[0;34m\u001b[0m\u001b[0;34m\u001b[0m\u001b[0m\n\u001b[0m\u001b[1;32m      4\u001b[0m     \u001b[0mcolumn_names\u001b[0m \u001b[0;34m=\u001b[0m \u001b[0;34m[\u001b[0m\u001b[0melm\u001b[0m\u001b[0;34m[\u001b[0m\u001b[0;36m0\u001b[0m\u001b[0;34m]\u001b[0m \u001b[0;32mfor\u001b[0m \u001b[0melm\u001b[0m \u001b[0;32min\u001b[0m \u001b[0mrates\u001b[0m\u001b[0;34m]\u001b[0m\u001b[0;34m\u001b[0m\u001b[0;34m\u001b[0m\u001b[0m\n\u001b[1;32m      5\u001b[0m     \u001b[0mdata_sizes\u001b[0m \u001b[0;34m=\u001b[0m \u001b[0;34m[\u001b[0m\u001b[0melm\u001b[0m\u001b[0;34m[\u001b[0m\u001b[0;36m1\u001b[0m\u001b[0;34m]\u001b[0m \u001b[0;32mfor\u001b[0m \u001b[0melm\u001b[0m \u001b[0;32min\u001b[0m \u001b[0mrates\u001b[0m\u001b[0;34m]\u001b[0m\u001b[0;34m\u001b[0m\u001b[0;34m\u001b[0m\u001b[0m\n",
      "\u001b[0;32m<ipython-input-5-9a3e3d7f488a>\u001b[0m in \u001b[0;36mdata_type_test\u001b[0;34m(data)\u001b[0m\n\u001b[1;32m      4\u001b[0m         \u001b[0miter_data\u001b[0m \u001b[0;34m=\u001b[0m \u001b[0mdeepcopy\u001b[0m\u001b[0;34m(\u001b[0m\u001b[0mdata\u001b[0m\u001b[0;34m)\u001b[0m\u001b[0;34m\u001b[0m\u001b[0;34m\u001b[0m\u001b[0m\n\u001b[1;32m      5\u001b[0m         \u001b[0mencoding_func\u001b[0m\u001b[0;34m,\u001b[0m \u001b[0mdecoding_func\u001b[0m\u001b[0;34m,\u001b[0m \u001b[0mfunc_obj\u001b[0m \u001b[0;34m=\u001b[0m \u001b[0mFUNCTION_PAIRS\u001b[0m\u001b[0;34m[\u001b[0m\u001b[0mencoding_algo\u001b[0m\u001b[0;34m]\u001b[0m\u001b[0;34m\u001b[0m\u001b[0;34m\u001b[0m\u001b[0m\n\u001b[0;32m----> 6\u001b[0;31m         \u001b[0mcompressed_size\u001b[0m\u001b[0;34m,\u001b[0m \u001b[0mcompressed_time\u001b[0m \u001b[0;34m=\u001b[0m \u001b[0mget_compression_rates\u001b[0m\u001b[0;34m(\u001b[0m\u001b[0miter_data\u001b[0m\u001b[0;34m,\u001b[0m \u001b[0mencoding_func\u001b[0m\u001b[0;34m,\u001b[0m \u001b[0mdecoding_func\u001b[0m\u001b[0;34m,\u001b[0m \u001b[0mfunc_obj\u001b[0m\u001b[0;34m)\u001b[0m\u001b[0;34m\u001b[0m\u001b[0;34m\u001b[0m\u001b[0m\n\u001b[0m\u001b[1;32m      7\u001b[0m         \u001b[0mprint\u001b[0m\u001b[0;34m(\u001b[0m\u001b[0;34mf'{encoding_algo}: Size of compressed data: {compressed_size}, Time of compression: {compressed_time}'\u001b[0m\u001b[0;34m)\u001b[0m\u001b[0;34m\u001b[0m\u001b[0;34m\u001b[0m\u001b[0m\n\u001b[1;32m      8\u001b[0m         \u001b[0mres\u001b[0m\u001b[0;34m.\u001b[0m\u001b[0mappend\u001b[0m\u001b[0;34m(\u001b[0m\u001b[0;34m(\u001b[0m\u001b[0mencoding_algo\u001b[0m\u001b[0;34m,\u001b[0m \u001b[0mcompressed_size\u001b[0m\u001b[0;34m,\u001b[0m \u001b[0mcompressed_time\u001b[0m\u001b[0;34m)\u001b[0m\u001b[0;34m)\u001b[0m\u001b[0;34m\u001b[0m\u001b[0;34m\u001b[0m\u001b[0m\n",
      "\u001b[0;32m<ipython-input-3-7fa9840abbaa>\u001b[0m in \u001b[0;36mget_compression_rates\u001b[0;34m(data, compression_func, decompression_func, func_class)\u001b[0m\n\u001b[1;32m      7\u001b[0m         \u001b[0mcompressed_data\u001b[0m \u001b[0;34m=\u001b[0m \u001b[0mcompression_func\u001b[0m\u001b[0;34m(\u001b[0m\u001b[0;34m)\u001b[0m\u001b[0;34m\u001b[0m\u001b[0;34m\u001b[0m\u001b[0m\n\u001b[1;32m      8\u001b[0m     \u001b[0;32melse\u001b[0m\u001b[0;34m:\u001b[0m\u001b[0;34m\u001b[0m\u001b[0;34m\u001b[0m\u001b[0m\n\u001b[0;32m----> 9\u001b[0;31m         \u001b[0mcompressed_data\u001b[0m \u001b[0;34m=\u001b[0m \u001b[0mcompression_func\u001b[0m\u001b[0;34m(\u001b[0m\u001b[0mdeepcopy\u001b[0m\u001b[0;34m(\u001b[0m\u001b[0mdata\u001b[0m\u001b[0;34m)\u001b[0m\u001b[0;34m)\u001b[0m\u001b[0;34m\u001b[0m\u001b[0;34m\u001b[0m\u001b[0m\n\u001b[0m\u001b[1;32m     10\u001b[0m \u001b[0;34m\u001b[0m\u001b[0m\n\u001b[1;32m     11\u001b[0m     \u001b[0;32mif\u001b[0m \u001b[0mcompression_func\u001b[0m \u001b[0;32min\u001b[0m \u001b[0;34m[\u001b[0m\u001b[0mcompress\u001b[0m\u001b[0;34m,\u001b[0m \u001b[0mlzw_compress\u001b[0m\u001b[0;34m]\u001b[0m\u001b[0;34m:\u001b[0m\u001b[0;34m\u001b[0m\u001b[0;34m\u001b[0m\u001b[0m\n",
      "\u001b[0;32m~/BzBCodec/src/lz77.py\u001b[0m in \u001b[0;36mcompress\u001b[0;34m(initial_input_array, max_offset, max_length)\u001b[0m\n\u001b[1;32m     23\u001b[0m         \u001b[0;32mif\u001b[0m \u001b[0mprint_i\u001b[0m \u001b[0;34m%\u001b[0m \u001b[0;36m1000\u001b[0m \u001b[0;34m==\u001b[0m \u001b[0;36m0\u001b[0m\u001b[0;34m:\u001b[0m\u001b[0;34m\u001b[0m\u001b[0;34m\u001b[0m\u001b[0m\n\u001b[1;32m     24\u001b[0m              \u001b[0mprint\u001b[0m\u001b[0;34m(\u001b[0m\u001b[0mcurrent_cut_position\u001b[0m\u001b[0;34m,\u001b[0m \u001b[0mend\u001b[0m\u001b[0;34m=\u001b[0m\u001b[0;34m'    \\r'\u001b[0m\u001b[0;34m)\u001b[0m\u001b[0;34m\u001b[0m\u001b[0;34m\u001b[0m\u001b[0m\n\u001b[0;32m---> 25\u001b[0;31m         \u001b[0mlength\u001b[0m\u001b[0;34m,\u001b[0m \u001b[0moffset\u001b[0m \u001b[0;34m=\u001b[0m \u001b[0mbest_length_offset\u001b[0m\u001b[0;34m(\u001b[0m\u001b[0mbuffer\u001b[0m\u001b[0;34m,\u001b[0m \u001b[0minput_array\u001b[0m\u001b[0;34m,\u001b[0m \u001b[0mmax_length\u001b[0m\u001b[0;34m,\u001b[0m \u001b[0mmax_offset\u001b[0m\u001b[0;34m)\u001b[0m\u001b[0;34m\u001b[0m\u001b[0;34m\u001b[0m\u001b[0m\n\u001b[0m\u001b[1;32m     26\u001b[0m         \u001b[0moutput\u001b[0m\u001b[0;34m.\u001b[0m\u001b[0mappend\u001b[0m\u001b[0;34m(\u001b[0m\u001b[0;34m(\u001b[0m\u001b[0moffset\u001b[0m\u001b[0;34m,\u001b[0m \u001b[0mlength\u001b[0m\u001b[0;34m,\u001b[0m \u001b[0minput_array\u001b[0m\u001b[0;34m[\u001b[0m\u001b[0;36m0\u001b[0m\u001b[0;34m]\u001b[0m\u001b[0;34m)\u001b[0m\u001b[0;34m)\u001b[0m\u001b[0;34m\u001b[0m\u001b[0;34m\u001b[0m\u001b[0m\n\u001b[1;32m     27\u001b[0m         \u001b[0mcurrent_cut_position\u001b[0m \u001b[0;34m+=\u001b[0m \u001b[0mlength\u001b[0m\u001b[0;34m\u001b[0m\u001b[0;34m\u001b[0m\u001b[0m\n",
      "\u001b[0;32m~/BzBCodec/src/lz77.py\u001b[0m in \u001b[0;36mbest_length_offset\u001b[0;34m(buffer, input_array, max_length, max_offset)\u001b[0m\n\u001b[1;32m    105\u001b[0m \u001b[0;34m\u001b[0m\u001b[0m\n\u001b[1;32m    106\u001b[0m         \u001b[0mchar\u001b[0m \u001b[0;34m=\u001b[0m \u001b[0mcut_buffer\u001b[0m\u001b[0;34m[\u001b[0m\u001b[0;34m-\u001b[0m\u001b[0mindex\u001b[0m\u001b[0;34m]\u001b[0m\u001b[0;34m\u001b[0m\u001b[0;34m\u001b[0m\u001b[0m\n\u001b[0;32m--> 107\u001b[0;31m         \u001b[0;32mif\u001b[0m \u001b[0mchar\u001b[0m \u001b[0;34m==\u001b[0m \u001b[0minput_array\u001b[0m\u001b[0;34m[\u001b[0m\u001b[0;36m0\u001b[0m\u001b[0;34m]\u001b[0m\u001b[0;34m:\u001b[0m\u001b[0;34m\u001b[0m\u001b[0;34m\u001b[0m\u001b[0m\n\u001b[0m\u001b[1;32m    108\u001b[0m \u001b[0;34m\u001b[0m\u001b[0m\n\u001b[1;32m    109\u001b[0m             \u001b[0mfound_length\u001b[0m \u001b[0;34m=\u001b[0m \u001b[0mrepeating_length_from_start\u001b[0m\u001b[0;34m(\u001b[0m\u001b[0mcut_buffer\u001b[0m\u001b[0;34m[\u001b[0m\u001b[0;34m-\u001b[0m\u001b[0mindex\u001b[0m\u001b[0;34m:\u001b[0m\u001b[0;34m]\u001b[0m\u001b[0;34m,\u001b[0m \u001b[0minput_array\u001b[0m\u001b[0;34m)\u001b[0m\u001b[0;34m\u001b[0m\u001b[0;34m\u001b[0m\u001b[0m\n",
      "\u001b[0;31mKeyboardInterrupt\u001b[0m: "
     ]
    }
   ],
   "source": [
    "# random testing text\n",
    "with open('examples/text.txt') as infile:\n",
    "    text = np.array([ord(char) for char in ''.join(infile.readlines())])\n",
    "\n",
    "plot_test_data(text, 'text: Romeo and Juliet')"
   ]
  },
  {
   "cell_type": "code",
   "execution_count": null,
   "metadata": {},
   "outputs": [
    {
     "name": "stdout",
     "output_type": "stream",
     "text": [
      "Size of test image is 124416056\n",
      "lzw: Size of compressed data: 16180456, Time of compression: 25.204736948013306\n",
      "1321693    \r"
     ]
    }
   ],
   "source": [
    "# random testing image\n",
    "img = Image.open('examples/test_img_2.png').convert('RGB')\n",
    "img = np.array(img, dtype='uint8')\n",
    "img = np.ravel(img)\n",
    "\n",
    "plot_test_data(img, 'image')"
   ]
  },
  {
   "cell_type": "code",
   "execution_count": 17,
   "metadata": {},
   "outputs": [
    {
     "name": "stdout",
     "output_type": "stream",
     "text": [
      "[( 0, 1, 84) ( 0, 1, 79) ( 0, 1, 66) ( 0, 1, 69) ( 3, 1, 79) ( 0, 1, 82)\n",
      " ( 0, 1, 78) ( 6, 1, 79) ( 8, 1, 84) ( 9, 6, 84) (15, 9, 84)]\n"
     ]
    }
   ],
   "source": [
    "print(compress(one_sentence))"
   ]
  },
  {
   "cell_type": "code",
   "execution_count": 18,
   "metadata": {},
   "outputs": [
    {
     "name": "stdout",
     "output_type": "stream",
     "text": [
      "[  84   79   66   69   79   82   78   79   84  256  258  260  265  259\n",
      "  261 7984]\n"
     ]
    }
   ],
   "source": [
    "print(lzw_compress(one_sentence))"
   ]
  },
  {
   "cell_type": "code",
   "execution_count": 23,
   "metadata": {},
   "outputs": [
    {
     "name": "stdout",
     "output_type": "stream",
     "text": [
      "('00110111001110101011000011011100111010011011100111010101100', {84: '00', 78: '010', 66: '011', 69: '100', 82: '101', 79: '11'})\n",
      "59\n"
     ]
    }
   ],
   "source": [
    "code = HuffmanCode(one_sentence).encode()\n",
    "print(code)\n",
    "print(len(code[0]))"
   ]
  },
  {
   "cell_type": "code",
   "execution_count": 21,
   "metadata": {},
   "outputs": [
    {
     "name": "stdout",
     "output_type": "stream",
     "text": [
      "('11110010111100001111001110111100111111000100001111011001111101101000111000011011100100110001101000100110010', {79: '000', 15: '0010', 6: '0011', 84: '010', 9: '0110', 66: '01110', 69: '01111', 1: '10', 3: '11000', 82: '11001', 78: '11010', 8: '11011', 0: '111'})\n",
      "107\n"
     ]
    }
   ],
   "source": [
    "code = Deflate().encode(one_sentence)\n",
    "print(code)\n",
    "print(len(code[0]))"
   ]
  },
  {
   "cell_type": "code",
   "execution_count": null,
   "metadata": {},
   "outputs": [],
   "source": []
  }
 ],
 "metadata": {
  "kernelspec": {
   "display_name": "Python 3",
   "language": "python",
   "name": "python3"
  },
  "language_info": {
   "codemirror_mode": {
    "name": "ipython",
    "version": 3
   },
   "file_extension": ".py",
   "mimetype": "text/x-python",
   "name": "python",
   "nbconvert_exporter": "python",
   "pygments_lexer": "ipython3",
   "version": "3.9.0"
  }
 },
 "nbformat": 4,
 "nbformat_minor": 4
}
